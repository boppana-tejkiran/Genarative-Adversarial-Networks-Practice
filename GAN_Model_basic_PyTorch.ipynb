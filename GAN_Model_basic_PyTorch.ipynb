{
  "nbformat": 4,
  "nbformat_minor": 0,
  "metadata": {
    "colab": {
      "provenance": [],
      "authorship_tag": "ABX9TyOIKAesTbbZb34zLDI8JLXb",
      "include_colab_link": true
    },
    "kernelspec": {
      "name": "python3",
      "display_name": "Python 3"
    },
    "language_info": {
      "name": "python"
    }
  },
  "cells": [
    {
      "cell_type": "markdown",
      "metadata": {
        "id": "view-in-github",
        "colab_type": "text"
      },
      "source": [
        "<a href=\"https://colab.research.google.com/github/boppana-tejkiran/Genarative-Adversarial-Networks-Practice/blob/main/GAN_Model_basic_PyTorch.ipynb\" target=\"_parent\"><img src=\"https://colab.research.google.com/assets/colab-badge.svg\" alt=\"Open In Colab\"/></a>"
      ]
    },
    {
      "cell_type": "code",
      "execution_count": null,
      "metadata": {
        "id": "L17zCNK03McP"
      },
      "outputs": [],
      "source": [
        "import torch\n",
        "import torch.nn as nn\n",
        "import torch.optim as optim\n",
        "import torchvision\n",
        "import torchvision.datasets as datasets\n",
        "from torch.utils.data import DataLoader\n",
        "import torchvision.transforms as transforms\n",
        "from torch.utils.tensorboard import SummaryWriter "
      ]
    },
    {
      "cell_type": "markdown",
      "source": [
        "The Generator and Discriminator"
      ],
      "metadata": {
        "id": "7l1Y_3Ry6ijn"
      }
    },
    {
      "cell_type": "code",
      "source": [
        "class Discriminator(nn.Module):\n",
        "  def __init__(self):\n",
        "    super(Descriminator).__init__(self, in_features)\n",
        "    self.disc = nn.Sequential(\n",
        "        nn.Linear(in_features,128),\n",
        "        nn.LeakyReLU(0.1),\n",
        "        nn.Linear(128,1),\n",
        "        nn.Sigmoid(),\n",
        "    )\n",
        "\n",
        "  def forward(self,x):\n",
        "    return self.disc(x)\n",
        "\n",
        "class Generator(nn.Module):\n",
        "  def __init__(self,z_dim, img_dim):\n",
        "    super().__inii__()\n",
        "    self.gen = nn.Sequential(\n",
        "        nn.Linear(z_dim,256),\n",
        "        nn.LeakyReLU(0,1),\n",
        "        nn.Linear(256, img_dim),\n",
        "        nn.Tanh(),\n",
        "    )\n",
        "\n",
        "  def forward(self,z):\n",
        "    return gen(z)"
      ],
      "metadata": {
        "id": "7sIMuaRv5Lsv"
      },
      "execution_count": null,
      "outputs": []
    },
    {
      "cell_type": "markdown",
      "source": [
        "GANs are sensitive to hyperparameters"
      ],
      "metadata": {
        "id": "NORBWh9j7F6K"
      }
    },
    {
      "cell_type": "code",
      "source": [
        "#Hyperparameters\n",
        "device = \"cuda\"\n",
        "lr = 3e-4\n",
        "z_dim = 64 # 128, 256\n",
        "image_dim = 28 * 28 * 1 # 784"
      ],
      "metadata": {
        "id": "8hgpg1dK6nim"
      },
      "execution_count": null,
      "outputs": []
    },
    {
      "cell_type": "code",
      "source": [
        "disc = Discriminator(image_dim).to(device)\n",
        "gen = Generator(z_dim, image_dim).to(device)\n",
        "fixed_noise = torch.randn((batch_size, z_dim)).to(device)\n",
        "\n",
        "transforms = transforms.Compose(\n",
        "    [transforms.ToTensor(), transforms.Normalize((0.1307),(0.3081))] # transforms.Normalize takes mean, std\n",
        ")"
      ],
      "metadata": {
        "id": "LPYEpl4B7ThC"
      },
      "execution_count": null,
      "outputs": []
    },
    {
      "cell_type": "markdown",
      "source": [
        "Load the dataset"
      ],
      "metadata": {
        "id": "yMJCl-Sx8D5f"
      }
    },
    {
      "cell_type": "code",
      "source": [
        "dataset = datasets.MNIST(root=\"dataset/\", transform=transforms, download = True)\n",
        "loader = DataLoader(dataset, batch_size=batch_size, shuffle=True)"
      ],
      "metadata": {
        "id": "jLgrMMc38F9r"
      },
      "execution_count": null,
      "outputs": []
    },
    {
      "cell_type": "markdown",
      "source": [
        "Initialise optimizers for generator & descriminator\n",
        "and loss function"
      ],
      "metadata": {
        "id": "tJIGGV_y9H9G"
      }
    },
    {
      "cell_type": "code",
      "source": [
        "opt_disc = optim.Adam(disc.parameters(), lr = lr)\n",
        "opt_gen = optim.Adam(gen.parameters(), lr = lr)\n",
        "criterian = nn.BCELoss()\n",
        "WRITER_fake = SummaryWriter(f\"runs/GAN_MNIST/fake\")\n",
        "WRITER_real = SummaryWriter(f\"runs/GAN_MNIST/real\")\n",
        "step = 0"
      ],
      "metadata": {
        "id": "Tk_jQfNf9G2p"
      },
      "execution_count": null,
      "outputs": []
    },
    {
      "cell_type": "markdown",
      "source": [
        "Train loop"
      ],
      "metadata": {
        "id": "ZrgM518s9fBO"
      }
    },
    {
      "cell_type": "code",
      "source": [
        "for epoch in range(num_epochs):\n",
        "  for batch_idx, (real,_) in enumerate(loader):\n",
        "    real = real.view(-1,784).to(device)\n",
        "    batch_size = real.shape[0]\n",
        "\n",
        "    ### Train Discriminator: max log(D(real)) + log(1-D(G(z)))\n",
        "    noise = torch.randn(batch_size, z_dim).to(device)\n",
        "    fake = gen(noise)\n",
        "    "
      ],
      "metadata": {
        "id": "N8YgbRo19aV9"
      },
      "execution_count": null,
      "outputs": []
    }
  ]
}