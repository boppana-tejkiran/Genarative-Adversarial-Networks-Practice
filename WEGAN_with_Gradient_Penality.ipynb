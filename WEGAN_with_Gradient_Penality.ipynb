{
  "nbformat": 4,
  "nbformat_minor": 0,
  "metadata": {
    "colab": {
      "provenance": [],
      "authorship_tag": "ABX9TyOJVDjaBQyd3ZWxlPffzZPA",
      "include_colab_link": true
    },
    "kernelspec": {
      "name": "python3",
      "display_name": "Python 3"
    },
    "language_info": {
      "name": "python"
    }
  },
  "cells": [
    {
      "cell_type": "markdown",
      "metadata": {
        "id": "view-in-github",
        "colab_type": "text"
      },
      "source": [
        "<a href=\"https://colab.research.google.com/github/boppana-tejkiran/Genarative-Adversarial-Networks-Practice/blob/main/WEGAN_with_Gradient_Penality.ipynb\" target=\"_parent\"><img src=\"https://colab.research.google.com/assets/colab-badge.svg\" alt=\"Open In Colab\"/></a>"
      ]
    },
    {
      "cell_type": "code",
      "execution_count": null,
      "metadata": {
        "id": "pBHWBOUoKOy8"
      },
      "outputs": [],
      "source": [
        "import torch\n",
        "import torch.nn as nn\n",
        "import torch.optim as optim\n",
        "\n",
        "from torch.uitls.data import DataLoader\n",
        "from torch.utils.tensorboard import SummaryWriter\n",
        "\n",
        "import torchvision.datasets import datasets\n",
        "import torchvision.transforms as transforms"
      ]
    },
    {
      "cell_type": "markdown",
      "source": [
        "#Data Loading"
      ],
      "metadata": {
        "id": "qq54yf5HLRh4"
      }
    },
    {
      "cell_type": "code",
      "source": [
        "# hyper parameters\n",
        "batch_size = 64\n",
        "image_chan = 1\n",
        "num_epochs = 5\n",
        "gen_feat = 64\n",
        "disc_feat = 64\n",
        "z_dim = 100\n",
        "lr = \n",
        "device = 'cuda' is torch.cuda.is_available() else 'cpu'\n",
        "\n",
        "transforms = transforms.Compose([transforms.Resize(64), transforms.ToTensor(), transforms.Normalize(\n",
        "    [0.5 for _ in range(image_chan)], [0.5 for _ in range(image_chan)]\n",
        ")])\n",
        "data = datasets.MNIST(root='datasets', transform = transforms,download = True)"
      ],
      "metadata": {
        "id": "PTi3kLgkLTWc"
      },
      "execution_count": null,
      "outputs": []
    },
    {
      "cell_type": "code",
      "source": [
        "class Discriminator(nn.Module):\n",
        "  def __init__(self, img_chan, disc_feat):\n",
        "    self.disc = nn.Sequential(\n",
        "        nn.Conv2d(img_chan, disc_feat, 4, 2, 1),\n",
        "        self.block(disc_feat, disc_feat*2, 4, 2, 1),\n",
        "        self.block(disc_feat*2, disc_feat*4, 4, 2, 1),\n",
        "        self.block(disc_feat*4, disc_feat*8, 4, 2, 1),\n",
        "        nn.Conv2d(disc_feat*8, 1, 4, 2, 0),\n",
        "    )\n",
        "\n",
        "  def block(self, in_chan, out_chan, ks, stride, pad):\n",
        "    return nn.Sequential(\n",
        "        nn.Conv2d(in_chan, out_chan, ks, stride, pad, bias = False),\n",
        "        nn.Batchnorm2d(out_chan),\n",
        "        nn.LeakReLU(0.2)\n",
        "    )\n",
        "\n",
        "  def forward(x):\n",
        "    return self.disc(x)\n",
        "\n",
        "\n",
        "class Generator(nn.Module):\n",
        "  def __init__(self, z_dim, img_chan, gen_feat):\n",
        "    super().__init__()\n",
        "    self.gen = nn.Sequential(\n",
        "        self.block(z_dim, gen_feat*16, 4, 1, 0),\n",
        "        self.block(gen_feat*16, gen_feat*8, 4,2,1),\n",
        "        self.block(gen_feat*8, gen_feat*4, 4, 2, 1),\n",
        "        self.block(gen_feat*4, gen_feat*2, 4, 2, 1),\n",
        "        nn.ConvTranspose2d(gen_feat*2, gen_feat, 4, 2, 1),\n",
        "        nn.Tanh()\n",
        "    )\n",
        "\n",
        "  def block(self, in_chan, out_chan, ks, stride, pad):\n",
        "    return nn.Sequential(\n",
        "        nn.ConvTranspose2d(in_chan, out_chan, ks, stride, pad, bias = False),\n",
        "        nn.BatchNorm2d(out_chan),\n",
        "        nn.LeakyReLU(0.2)\n",
        "    )\n",
        "\n",
        "  def forward(self,z):\n",
        "    return self.gen(z)"
      ],
      "metadata": {
        "id": "-_LcOqS3N6G0"
      },
      "execution_count": null,
      "outputs": []
    },
    {
      "cell_type": "code",
      "source": [
        "gen_optim = optim.RMSprop(gen.parameters(), lr = lr)\n",
        "disc_optim = optim.RMSprop(disc.parameteers(), lr = lr)\n",
        "\n",
        "gen = Generator(z_dim, img_chan, gen_feat).to(device)\n",
        "disc = Discriminator(img_chan, disc_feat).to(device)"
      ],
      "metadata": {
        "id": "ekf9YstqRFR7"
      },
      "execution_count": null,
      "outputs": []
    }
  ]
}